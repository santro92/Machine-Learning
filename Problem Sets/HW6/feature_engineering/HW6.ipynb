{
 "cells": [
  {
   "cell_type": "code",
   "execution_count": 1,
   "metadata": {
    "collapsed": false
   },
   "outputs": [],
   "source": [
    "import pandas as pd\n",
    "import re\n",
    "from stemming.porter2 import stem"
   ]
  },
  {
   "cell_type": "code",
   "execution_count": 2,
   "metadata": {
    "collapsed": true
   },
   "outputs": [],
   "source": [
    "fileName = '../data/spoilers/train.csv'\n",
    "df = pd.read_csv(fileName)"
   ]
  },
  {
   "cell_type": "code",
   "execution_count": 3,
   "metadata": {
    "collapsed": false
   },
   "outputs": [
    {
     "data": {
      "text/html": [
       "<div>\n",
       "<table border=\"1\" class=\"dataframe\">\n",
       "  <thead>\n",
       "    <tr style=\"text-align: right;\">\n",
       "      <th></th>\n",
       "      <th>sentence</th>\n",
       "      <th>spoiler</th>\n",
       "      <th>verb</th>\n",
       "      <th>page</th>\n",
       "      <th>trope</th>\n",
       "    </tr>\n",
       "  </thead>\n",
       "  <tbody>\n",
       "    <tr>\n",
       "      <th>0</th>\n",
       "      <td>He  saw  me  at his surgery.</td>\n",
       "      <td>False</td>\n",
       "      <td>True</td>\n",
       "      <td>Absolutely</td>\n",
       "      <td>ComicallyMissingThePoint</td>\n",
       "    </tr>\n",
       "    <tr>\n",
       "      <th>1</th>\n",
       "      <td>Repeats have been rare, but BBC 4 now shows th...</td>\n",
       "      <td>False</td>\n",
       "      <td>True</td>\n",
       "      <td>AdamAdamantLives</td>\n",
       "      <td>TheAvengers.html</td>\n",
       "    </tr>\n",
       "    <tr>\n",
       "      <th>2</th>\n",
       "      <td>Between his code of chivalry and a bad romanti...</td>\n",
       "      <td>False</td>\n",
       "      <td>True</td>\n",
       "      <td>AdamAdamantLives</td>\n",
       "      <td>CelibateHero</td>\n",
       "    </tr>\n",
       "    <tr>\n",
       "      <th>3</th>\n",
       "      <td>Adam drives a Mini Cooper S, a fairly humdrum ...</td>\n",
       "      <td>False</td>\n",
       "      <td>True</td>\n",
       "      <td>AdamAdamantLives</td>\n",
       "      <td>CoolCar</td>\n",
       "    </tr>\n",
       "    <tr>\n",
       "      <th>4</th>\n",
       "      <td>Later we discover that The Face had himself fr...</td>\n",
       "      <td>False</td>\n",
       "      <td>True</td>\n",
       "      <td>AdamAdamantLives</td>\n",
       "      <td>HumanPopsicle</td>\n",
       "    </tr>\n",
       "  </tbody>\n",
       "</table>\n",
       "</div>"
      ],
      "text/plain": [
       "                                            sentence spoiler  verb  \\\n",
       "0                       He  saw  me  at his surgery.   False  True   \n",
       "1  Repeats have been rare, but BBC 4 now shows th...   False  True   \n",
       "2  Between his code of chivalry and a bad romanti...   False  True   \n",
       "3  Adam drives a Mini Cooper S, a fairly humdrum ...   False  True   \n",
       "4  Later we discover that The Face had himself fr...   False  True   \n",
       "\n",
       "               page                     trope  \n",
       "0        Absolutely  ComicallyMissingThePoint  \n",
       "1  AdamAdamantLives          TheAvengers.html  \n",
       "2  AdamAdamantLives              CelibateHero  \n",
       "3  AdamAdamantLives                   CoolCar  \n",
       "4  AdamAdamantLives             HumanPopsicle  "
      ]
     },
     "execution_count": 3,
     "metadata": {},
     "output_type": "execute_result"
    }
   ],
   "source": [
    "df.head()"
   ]
  },
  {
   "cell_type": "code",
   "execution_count": 4,
   "metadata": {
    "collapsed": false
   },
   "outputs": [],
   "source": [
    "cachedStopWords = [line.rstrip('\\n') for line in open('stopwords.txt')]\n",
    "lst = []\n",
    "for i in range(len(df)):\n",
    "    text = (df['sentence'][i]).lower()\n",
    "    text = ' '.join([stem(word) for word in text.split() if word not in cachedStopWords])\n",
    "    text = ''.join(e for e in text if e.isalnum() or e.isspace())\n",
    "    lst.append(text)\n",
    "df['sentence'] = pd.Series(lst)"
   ]
  },
  {
   "cell_type": "code",
   "execution_count": 5,
   "metadata": {
    "collapsed": false
   },
   "outputs": [],
   "source": [
    "cachedStopWords = [line.rstrip('\\n') for line in open('stopwords.txt')]\n",
    "page_lst = []\n",
    "trope_lst = []\n",
    "for i in range(len(df)):\n",
    "    page_lst.append(df['page'][i].lower())\n",
    "    text = (re.sub(r\"(?<=\\w)([A-Z])\", r\" \\1\", df['trope'][i])).lower()\n",
    "    trope_lst.append(' '.join([stem(word) for word in text.split() if word not in cachedStopWords]))\n",
    "df['page'] = pd.Series(page_lst)\n",
    "df['trope'] = pd.Series(trope_lst)"
   ]
  },
  {
   "cell_type": "code",
   "execution_count": 6,
   "metadata": {
    "collapsed": false
   },
   "outputs": [
    {
     "data": {
      "text/html": [
       "<div>\n",
       "<table border=\"1\" class=\"dataframe\">\n",
       "  <thead>\n",
       "    <tr style=\"text-align: right;\">\n",
       "      <th></th>\n",
       "      <th>sentence</th>\n",
       "      <th>spoiler</th>\n",
       "      <th>verb</th>\n",
       "      <th>page</th>\n",
       "      <th>trope</th>\n",
       "    </tr>\n",
       "  </thead>\n",
       "  <tbody>\n",
       "    <tr>\n",
       "      <th>0</th>\n",
       "      <td>saw surgery</td>\n",
       "      <td>False</td>\n",
       "      <td>True</td>\n",
       "      <td>absolutely</td>\n",
       "      <td>comic miss point</td>\n",
       "    </tr>\n",
       "    <tr>\n",
       "      <th>1</th>\n",
       "      <td>repeat rare bbc 4 now show occasion episode</td>\n",
       "      <td>False</td>\n",
       "      <td>True</td>\n",
       "      <td>adamadamantlives</td>\n",
       "      <td>avengers.html</td>\n",
       "    </tr>\n",
       "    <tr>\n",
       "      <th>2</th>\n",
       "      <td>code chivalri bad romant past adam consist avo...</td>\n",
       "      <td>False</td>\n",
       "      <td>True</td>\n",
       "      <td>adamadamantlives</td>\n",
       "      <td>celib hero</td>\n",
       "    </tr>\n",
       "    <tr>\n",
       "      <th>3</th>\n",
       "      <td>adam drive mini cooper s fair humdrum compact ...</td>\n",
       "      <td>False</td>\n",
       "      <td>True</td>\n",
       "      <td>adamadamantlives</td>\n",
       "      <td>cool car</td>\n",
       "    </tr>\n",
       "    <tr>\n",
       "      <th>4</th>\n",
       "      <td>later discov face frozen adam</td>\n",
       "      <td>False</td>\n",
       "      <td>True</td>\n",
       "      <td>adamadamantlives</td>\n",
       "      <td>human popsicl</td>\n",
       "    </tr>\n",
       "  </tbody>\n",
       "</table>\n",
       "</div>"
      ],
      "text/plain": [
       "                                            sentence spoiler  verb  \\\n",
       "0                                        saw surgery   False  True   \n",
       "1        repeat rare bbc 4 now show occasion episode   False  True   \n",
       "2  code chivalri bad romant past adam consist avo...   False  True   \n",
       "3  adam drive mini cooper s fair humdrum compact ...   False  True   \n",
       "4                      later discov face frozen adam   False  True   \n",
       "\n",
       "               page             trope  \n",
       "0        absolutely  comic miss point  \n",
       "1  adamadamantlives     avengers.html  \n",
       "2  adamadamantlives        celib hero  \n",
       "3  adamadamantlives          cool car  \n",
       "4  adamadamantlives     human popsicl  "
      ]
     },
     "execution_count": 6,
     "metadata": {},
     "output_type": "execute_result"
    }
   ],
   "source": [
    "df.head()"
   ]
  },
  {
   "cell_type": "code",
   "execution_count": 7,
   "metadata": {
    "collapsed": false
   },
   "outputs": [],
   "source": [
    "s = pd.Series(list(df['sentence']))"
   ]
  },
  {
   "cell_type": "code",
   "execution_count": 8,
   "metadata": {
    "collapsed": false
   },
   "outputs": [],
   "source": [
    "isnum_lst = []\n",
    "for i in range(len(s)):\n",
    "    isnum_lst.append(bool(re.search(r'\\d', s[i])))\n",
    "df['num_present'] = pd.Series(isnum_lst)"
   ]
  },
  {
   "cell_type": "code",
   "execution_count": 9,
   "metadata": {
    "collapsed": true
   },
   "outputs": [],
   "source": [
    "df.to_csv('../data/spoilers/new_train.csv', index=False)"
   ]
  },
  {
   "cell_type": "code",
   "execution_count": null,
   "metadata": {
    "collapsed": true
   },
   "outputs": [],
   "source": []
  }
 ],
 "metadata": {
  "kernelspec": {
   "display_name": "Python [Root]",
   "language": "python",
   "name": "Python [Root]"
  },
  "language_info": {
   "codemirror_mode": {
    "name": "ipython",
    "version": 2
   },
   "file_extension": ".py",
   "mimetype": "text/x-python",
   "name": "python",
   "nbconvert_exporter": "python",
   "pygments_lexer": "ipython2",
   "version": "2.7.12"
  }
 },
 "nbformat": 4,
 "nbformat_minor": 0
}
